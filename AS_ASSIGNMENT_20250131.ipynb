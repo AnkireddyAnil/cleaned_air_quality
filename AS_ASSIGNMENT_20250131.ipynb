{
 "cells": [
  {
   "cell_type": "markdown",
   "metadata": {
    "id": "onXa9e27J0Eo"
   },
   "source": [
    "# **Environment Setup**"
   ]
  },
  {
   "cell_type": "code",
   "execution_count": 2,
   "metadata": {
    "id": "og4W66hOJwMM"
   },
   "outputs": [
    {
     "ename": "ModuleNotFoundError",
     "evalue": "No module named 'tensorflow'",
     "output_type": "error",
     "traceback": [
      "\u001b[1;31m---------------------------------------------------------------------------\u001b[0m",
      "\u001b[1;31mModuleNotFoundError\u001b[0m                       Traceback (most recent call last)",
      "Cell \u001b[1;32mIn[2], line 8\u001b[0m\n\u001b[0;32m      6\u001b[0m \u001b[38;5;28;01mfrom\u001b[39;00m \u001b[38;5;21;01msklearn\u001b[39;00m\u001b[38;5;21;01m.\u001b[39;00m\u001b[38;5;21;01mensemble\u001b[39;00m \u001b[38;5;28;01mimport\u001b[39;00m RandomForestRegressor\n\u001b[0;32m      7\u001b[0m \u001b[38;5;28;01mfrom\u001b[39;00m \u001b[38;5;21;01msklearn\u001b[39;00m\u001b[38;5;21;01m.\u001b[39;00m\u001b[38;5;21;01mmetrics\u001b[39;00m \u001b[38;5;28;01mimport\u001b[39;00m mean_squared_error, r2_score\n\u001b[1;32m----> 8\u001b[0m \u001b[38;5;28;01mfrom\u001b[39;00m \u001b[38;5;21;01mtensorflow\u001b[39;00m\u001b[38;5;21;01m.\u001b[39;00m\u001b[38;5;21;01mkeras\u001b[39;00m\u001b[38;5;21;01m.\u001b[39;00m\u001b[38;5;21;01mmodels\u001b[39;00m \u001b[38;5;28;01mimport\u001b[39;00m Sequential\n\u001b[0;32m      9\u001b[0m \u001b[38;5;28;01mfrom\u001b[39;00m \u001b[38;5;21;01mtensorflow\u001b[39;00m\u001b[38;5;21;01m.\u001b[39;00m\u001b[38;5;21;01mkeras\u001b[39;00m\u001b[38;5;21;01m.\u001b[39;00m\u001b[38;5;21;01mlayers\u001b[39;00m \u001b[38;5;28;01mimport\u001b[39;00m Dense, LSTM\n\u001b[0;32m     10\u001b[0m \u001b[38;5;28;01mfrom\u001b[39;00m \u001b[38;5;21;01mtensorflow\u001b[39;00m\u001b[38;5;21;01m.\u001b[39;00m\u001b[38;5;21;01mkeras\u001b[39;00m\u001b[38;5;21;01m.\u001b[39;00m\u001b[38;5;21;01mpreprocessing\u001b[39;00m\u001b[38;5;21;01m.\u001b[39;00m\u001b[38;5;21;01msequence\u001b[39;00m \u001b[38;5;28;01mimport\u001b[39;00m TimeseriesGenerator\n",
      "\u001b[1;31mModuleNotFoundError\u001b[0m: No module named 'tensorflow'"
     ]
    }
   ],
   "source": [
    "import pandas as pd\n",
    "import numpy as np\n",
    "import matplotlib.pyplot as plt\n",
    "import seaborn as sns\n",
    "from sklearn.model_selection import train_test_split\n",
    "from sklearn.ensemble import RandomForestRegressor\n",
    "from sklearn.metrics import mean_squared_error, r2_score\n",
    "from tensorflow.keras.models import Sequential\n",
    "from tensorflow.keras.layers import Dense, LSTM\n",
    "from tensorflow.keras.preprocessing.sequence import TimeseriesGenerator"
   ]
  },
  {
   "cell_type": "code",
   "execution_count": null,
   "metadata": {},
   "outputs": [],
   "source": []
  },
  {
   "cell_type": "markdown",
   "metadata": {
    "id": "3l_f_0s0KD6h"
   },
   "source": [
    "# **Load the Dataset**"
   ]
  },
  {
   "cell_type": "code",
   "execution_count": null,
   "metadata": {
    "colab": {
     "base_uri": "https://localhost:8080/",
     "height": 206
    },
    "id": "SzdODbxzKEQI",
    "outputId": "87ecf2e6-8057-4890-94dd-31c0d3d5db4b"
   },
   "outputs": [],
   "source": [
    "# Load dataset from specified file path\n",
    "file_path = r\"C:\\Users\\Anil Reddy\\Downloads\\cleaned_air_quality.csv\"\n",
    "data = pd.read_excel(file_path)\n",
    "\n",
    "# Display the first few rows\n",
    "data.head()"
   ]
  },
  {
   "cell_type": "markdown",
   "metadata": {
    "id": "4ip5I0_wKNfV"
   },
   "source": [
    "# **Data Preprocessing**"
   ]
  },
  {
   "cell_type": "code",
   "execution_count": null,
   "metadata": {
    "id": "lMJmMhSwP3zI"
   },
   "outputs": [],
   "source": [
    "# Ensure 'Date' and 'Time' columns are strings before concatenation\n",
    "data['Date'] = data['Date'].astype(str)\n",
    "data['Time'] = data['Time'].astype(str)\n",
    "\n"
   ]
  },
  {
   "cell_type": "code",
   "execution_count": null,
   "metadata": {
    "colab": {
     "base_uri": "https://localhost:8080/"
    },
    "id": "chFXHaIsQK92",
    "outputId": "0ab5514e-8f84-47f6-e8b9-1afc79dc2fb6"
   },
   "outputs": [],
   "source": [
    "print(data[['Date', 'Time']].head())\n"
   ]
  },
  {
   "cell_type": "code",
   "execution_count": null,
   "metadata": {
    "id": "jExHFMX3PmS0"
   },
   "outputs": [],
   "source": [
    "data['DateTime'] = pd.to_datetime(data['Date'] + ' ' + data['Time'], format='%Y-%m-%d %H:%M:%S', errors='coerce')\n"
   ]
  },
  {
   "cell_type": "code",
   "execution_count": null,
   "metadata": {
    "id": "ygZOMQ1sQfMO"
   },
   "outputs": [],
   "source": [
    "data['DateTime'] = pd.to_datetime(data['Date'] + ' ' + data['Time'], errors='coerce')\n"
   ]
  },
  {
   "cell_type": "code",
   "execution_count": null,
   "metadata": {
    "colab": {
     "base_uri": "https://localhost:8080/"
    },
    "id": "FlSJbtkiQh5k",
    "outputId": "6c3d48f3-9c97-47c4-8dc3-56f2e07fc1b0"
   },
   "outputs": [],
   "source": [
    "print(data[data['DateTime'].isna()])\n"
   ]
  },
  {
   "cell_type": "code",
   "execution_count": null,
   "metadata": {
    "colab": {
     "base_uri": "https://localhost:8080/"
    },
    "id": "mQc5nhfrQnVw",
    "outputId": "f063a303-8d43-485e-edba-ba9d0e5434e1"
   },
   "outputs": [],
   "source": [
    "# Combine 'Date' and 'Time' columns into a single 'DateTime' column\n",
    "try:\n",
    "    data['DateTime'] = pd.to_datetime(data['Date'] + ' ' + data['Time'], format='%Y-%m-%d %H:%M:%S', errors='coerce')\n",
    "except Exception as e:\n",
    "    print(f\"Error parsing datetime: {e}\")\n",
    "\n",
    "# Drop 'Date' and 'Time' columns\n",
    "data = data.drop(['Date', 'Time'], axis=1)\n",
    "\n",
    "# Sort by 'DateTime'\n",
    "data = data.sort_values(by='DateTime').reset_index(drop=True)\n",
    "\n",
    "# Display the first few rows to verify\n",
    "print(data.head())\n"
   ]
  },
  {
   "cell_type": "markdown",
   "metadata": {
    "id": "DkNgmmp9Krnf"
   },
   "source": [
    "# **Exploratory Data Analysis (EDA)**"
   ]
  },
  {
   "cell_type": "code",
   "execution_count": null,
   "metadata": {
    "colab": {
     "base_uri": "https://localhost:8080/",
     "height": 300
    },
    "id": "GxAjpsZ2K2IS",
    "outputId": "4d8872a3-8da4-43be-8dc0-978c01b265d5"
   },
   "outputs": [],
   "source": [
    "# Summary statistics\n",
    "data.describe()\n"
   ]
  },
  {
   "cell_type": "code",
   "execution_count": null,
   "metadata": {
    "colab": {
     "base_uri": "https://localhost:8080/",
     "height": 794
    },
    "id": "z_1x3yImKr3N",
    "outputId": "b1124dd5-d9ed-45db-c97c-7ad089a01a39"
   },
   "outputs": [],
   "source": [
    "# Check for correlations\n",
    "plt.figure(figsize=(12, 8))\n",
    "correlation_matrix = data.corr()\n",
    "sns.heatmap(correlation_matrix, annot=True, cmap='coolwarm')\n",
    "plt.title('Correlation Matrix')\n",
    "plt.show()\n"
   ]
  },
  {
   "cell_type": "code",
   "execution_count": null,
   "metadata": {
    "colab": {
     "base_uri": "https://localhost:8080/",
     "height": 564
    },
    "id": "pXh7x9faQ01p",
    "outputId": "318faaca-5535-4e86-9ccc-03c9b3a55b46"
   },
   "outputs": [],
   "source": [
    "# Plot target variable trends over time\n",
    "plt.figure(figsize=(12, 6))\n",
    "plt.plot(data['DateTime'], data['CO(GT)'], label='CO Concentration (mg/m^3)')\n",
    "plt.title('CO Concentration Over Time')\n",
    "plt.xlabel('Time')\n",
    "plt.ylabel('CO Concentration')\n",
    "plt.legend()\n",
    "plt.show()"
   ]
  },
  {
   "cell_type": "markdown",
   "metadata": {
    "id": "NgeTbv3fQ5GY"
   },
   "source": [
    "# **Feature Selection and Preparation**"
   ]
  },
  {
   "cell_type": "code",
   "execution_count": null,
   "metadata": {
    "id": "JcIXKzs9Q6WM"
   },
   "outputs": [],
   "source": [
    "# Define target and features\n",
    "target = 'CO(GT)'\n",
    "features = ['PT08.S1(CO)', 'PT08.S2(NMHC)', 'PT08.S3(NOx)', 'PT08.S4(NO2)', 'PT08.S5(O3)',\n",
    "            'T', 'RH', 'AH']\n",
    "\n",
    "X = data[features]\n",
    "y = data[target]\n",
    "\n",
    "# Train-test split\n",
    "X_train, X_test, y_train, y_test = train_test_split(X, y, test_size=0.2, random_state=42)"
   ]
  },
  {
   "cell_type": "markdown",
   "metadata": {
    "id": "miRTTUHLQ_9Y"
   },
   "source": [
    "# **Machine Learning Model - Random Forest Regressor**"
   ]
  },
  {
   "cell_type": "code",
   "execution_count": null,
   "metadata": {
    "colab": {
     "base_uri": "https://localhost:8080/"
    },
    "id": "mR8LCA25RBRA",
    "outputId": "2dd06ba5-0be4-486b-832a-15137bb97cb4"
   },
   "outputs": [],
   "source": [
    "# Initialize Random Forest Regressor\n",
    "rf_model = RandomForestRegressor(n_estimators=100, random_state=42)\n",
    "rf_model.fit(X_train, y_train)\n",
    "\n",
    "# Predict and evaluate\n",
    "rf_predictions = rf_model.predict(X_test)\n",
    "rf_mse = mean_squared_error(y_test, rf_predictions)\n",
    "rf_r2 = r2_score(y_test, rf_predictions)\n",
    "\n",
    "print(\"Random Forest Mean Squared Error:\", rf_mse)\n",
    "print(\"Random Forest R^2 Score:\", rf_r2)"
   ]
  },
  {
   "cell_type": "markdown",
   "metadata": {
    "id": "23p1KzAJRJTg"
   },
   "source": [
    "# **Deep Learning Model - LSTM**"
   ]
  },
  {
   "cell_type": "code",
   "execution_count": null,
   "metadata": {
    "colab": {
     "base_uri": "https://localhost:8080/"
    },
    "id": "jNjAxeHGRKSr",
    "outputId": "6974862b-ebc0-4aad-82ba-b106fbe7972c"
   },
   "outputs": [],
   "source": [
    "# Scale the data\n",
    "from sklearn.preprocessing import MinMaxScaler\n",
    "scaler = MinMaxScaler()\n",
    "scaled_data = scaler.fit_transform(data[features + [target]])\n",
    "\n",
    "# Prepare data for LSTM\n",
    "generator = TimeseriesGenerator(scaled_data[:, :-1], scaled_data[:, -1], length=24, batch_size=32)\n",
    "\n",
    "# Build the LSTM model\n",
    "lstm_model = Sequential([\n",
    "    LSTM(50, activation='relu', input_shape=(24, len(features))),\n",
    "    Dense(1)\n",
    "])\n",
    "\n",
    "lstm_model.compile(optimizer='adam', loss='mse')"
   ]
  },
  {
   "cell_type": "code",
   "execution_count": null,
   "metadata": {
    "colab": {
     "base_uri": "https://localhost:8080/"
    },
    "id": "Xx_Jx4DZRQE0",
    "outputId": "b4b73468-504d-48e9-dc07-c845d43df9bf"
   },
   "outputs": [],
   "source": [
    "# Train the model\n",
    "lstm_model.fit(generator, epochs=3)"
   ]
  },
  {
   "cell_type": "code",
   "execution_count": null,
   "metadata": {
    "colab": {
     "base_uri": "https://localhost:8080/"
    },
    "id": "NT-cWJKcRYBe",
    "outputId": "eb4591f0-9b4f-4124-cf25-91c4994dfdfd"
   },
   "outputs": [],
   "source": [
    "# Predict using the LSTM model\n",
    "lstm_predictions = lstm_model.predict(generator)\n",
    "lstm_mse = mean_squared_error(scaled_data[24:, -1], lstm_predictions)\n",
    "lstm_r2 = r2_score(scaled_data[24:, -1], lstm_predictions)\n",
    "\n",
    "print(\"LSTM Mean Squared Error:\", lstm_mse)\n",
    "print(\"LSTM R^2 Score:\", lstm_r2)"
   ]
  },
  {
   "cell_type": "markdown",
   "metadata": {
    "id": "Ni3Hvj-2Rcjy"
   },
   "source": [
    "# **Visualization of Predictions**"
   ]
  },
  {
   "cell_type": "code",
   "execution_count": null,
   "metadata": {
    "colab": {
     "base_uri": "https://localhost:8080/",
     "height": 545
    },
    "id": "OpSmhlp9Rd2G",
    "outputId": "3a13a331-943c-4f09-b7c3-cd4c305ee4a0"
   },
   "outputs": [],
   "source": [
    "# Compare predictions to actual values for Random Forest\n",
    "plt.figure(figsize=(12, 6))\n",
    "plt.plot(y_test.values, label='Actual', alpha=0.7)\n",
    "plt.plot(rf_predictions, label='Random Forest Predictions', alpha=0.7)\n",
    "plt.title('Random Forest Predictions vs Actual Values')\n",
    "plt.legend()\n",
    "plt.show()"
   ]
  },
  {
   "cell_type": "code",
   "execution_count": null,
   "metadata": {
    "colab": {
     "base_uri": "https://localhost:8080/",
     "height": 545
    },
    "id": "TTByLfvyRjNJ",
    "outputId": "0dff3092-4c81-4aec-dab8-5ba4f1aeab10"
   },
   "outputs": [],
   "source": [
    "# Visualization for LSTM predictions\n",
    "plt.figure(figsize=(12, 6))\n",
    "plt.plot(scaled_data[24:, -1], label='Actual', alpha=0.7)\n",
    "plt.plot(lstm_predictions, label='LSTM Predictions', alpha=0.7)\n",
    "plt.title('LSTM Predictions vs Actual Values')\n",
    "plt.legend()\n",
    "plt.show()"
   ]
  },
  {
   "cell_type": "markdown",
   "metadata": {
    "id": "ika5GL9ZRo71"
   },
   "source": [
    "# **Save Cleaned Dataset and Model Outputs**"
   ]
  },
  {
   "cell_type": "code",
   "execution_count": null,
   "metadata": {
    "colab": {
     "base_uri": "https://localhost:8080/"
    },
    "id": "hBxgprSfRqFW",
    "outputId": "65aaaea4-2c02-4529-87e6-41b2a28a0ac0"
   },
   "outputs": [],
   "source": [
    "# Save cleaned dataset\n",
    "cleaned_file_path = r\"C:\\Users\\Anil Reddy\\Downloads\\cleaned_air_quality.csv\"\n",
    "data.to_csv(cleaned_file_path, index=False)\n",
    "print(f\"Cleaned dataset saved to {cleaned_file_path}\")\n",
    "\n",
    "# Save model predictions\n",
    "predictions_file_path = r\"C:\\Users\\Anil Reddy\\Downloads\\cleaned_air_quality.csv\"\n",
    "predictions_df = pd.DataFrame({\n",
    "    'Actual': y_test,\n",
    "    'Random Forest Predictions': rf_predictions\n",
    "})\n",
    "predictions_df.to_csv(predictions_file_path, index=False)\n",
    "print(f\"Predictions saved to {predictions_file_path}\")"
   ]
  },
  {
   "cell_type": "code",
   "execution_count": null,
   "metadata": {},
   "outputs": [],
   "source": []
  }
 ],
 "metadata": {
  "colab": {
   "provenance": []
  },
  "kernelspec": {
   "display_name": "Python [conda env:base] *",
   "language": "python",
   "name": "conda-base-py"
  },
  "language_info": {
   "codemirror_mode": {
    "name": "ipython",
    "version": 3
   },
   "file_extension": ".py",
   "mimetype": "text/x-python",
   "name": "python",
   "nbconvert_exporter": "python",
   "pygments_lexer": "ipython3",
   "version": "3.12.7"
  }
 },
 "nbformat": 4,
 "nbformat_minor": 4
}
